{
 "cells": [
  {
   "cell_type": "markdown",
   "metadata": {},
   "source": [
    "## Python Warm-Up for Machine Learning \n"
   ]
  },
  {
   "cell_type": "markdown",
   "metadata": {},
   "source": [
    "---\n",
    "## Part 1. Complex data types in Python\n",
    "### Exercise 1: Basic List Operations\n",
    "- Create a list named temperatures containing any five different integer values (representing temperatures in degrees Celsius).\n",
    "- Print the second temperature in the list using indexing.\n",
    "- Append a new temperature to the list and then print the updated list.\n",
    "- Using slicing, print the first three temperatures from the list.\n",
    "- Write a loop that iterates through the list and prints each temperature converted to Fahrenheit. The formula to convert Celsius to Fahrenheit is (Celsius * 9/5) + 32."
   ]
  },
  {
   "cell_type": "code",
   "execution_count": 30,
   "metadata": {},
   "outputs": [
    {
     "name": "stdout",
     "output_type": "stream",
     "text": [
      "Second temperature: 21\n",
      "Updated list of temperatures: [17, 21, 25, 19, 30, 27]\n",
      "First three temperatures: [17, 21, 25]\n",
      "Temperature in Fahrenheit:\n",
      "17°C = 62.6°F\n",
      "21°C = 69.8°F\n",
      "25°C = 77.0°F\n",
      "19°C = 66.2°F\n",
      "30°C = 86.0°F\n",
      "27°C = 80.6°F\n"
     ]
    }
   ],
   "source": [
    "# Creating a list\n",
    "temperature = [17, 21, 25, 19, 30]\n",
    "# Print the second temperature in the list using indexing.\n",
    "print(\"Second temperature:\", temperature[1])\n",
    "#Append a new temperature to the list and then print the updated list\n",
    "temperature.append(27)\n",
    "print(\"Updated list of temperatures:\", temperature)\n",
    "#Using slicing, print the first three temperatures from the list\n",
    "print(\"First three temperatures:\", temperature[:3])\n",
    "#Write a loop that iterates through the list and prints each temperature converted to Fahrenheit\n",
    "print(\"Temperature in Fahrenheit:\")\n",
    "for temp in temperature:\n",
    "    fahrenheit = (temp * 9/5) + 32\n",
    "    print(f\"{temp}°C = {fahrenheit:.1f}°F\")"
   ]
  },
  {
   "cell_type": "markdown",
   "metadata": {},
   "source": [
    "### Exercise 2: Basic Dictionary Operations\n",
    "- Create a dictionary named student_scores with at least five key-value pairs, where the keys are student names (strings) and the values are their scores (integers).\n",
    "- Add a new student-score pair to the dictionary.\n",
    "- Update the score of an existing student.\n",
    "- Write a function to calculate the average score of all students and print the result.\n"
   ]
  },
  {
   "cell_type": "code",
   "execution_count": 31,
   "metadata": {},
   "outputs": [
    {
     "name": "stdout",
     "output_type": "stream",
     "text": [
      "Average score of all students: 85.8\n"
     ]
    }
   ],
   "source": [
    "# Creating a dictionary with student scores\n",
    "student_scores = {\"Alice\": 85, \"Bob\": 90, \"Charlie\": 78,\"Dasha\": 88, \"Andrey\": 95}\n",
    "\n",
    "# Adding a new student-score pair\n",
    "\n",
    "student_scores[\"Masha\"] = 92\n",
    "\n",
    "# Updating the score of an existing student\n",
    "student_scores[\"Andrey\"] = 82\n",
    "\n",
    "\n",
    "# Function to calculate average score\n",
    "def calculate_average(scores_dict):\n",
    "    total_score = sum(scores_dict.values())\n",
    "    num_students = len(scores_dict)\n",
    "    average = total_score / num_students\n",
    "    print(f\"Average score of all students: {average:.1f}\")\n",
    "\n",
    "# Printing the average score\n",
    "calculate_average(student_scores)\n"
   ]
  },
  {
   "cell_type": "markdown",
   "metadata": {},
   "source": [
    "### Exercise 3: Working with Nested Dictionaries\n",
    "\n",
    "Given is a nested dictionary where each key is a classroom (e.g., 'Class A'), and its value is another dictionary with student names as keys and their scores as values.\n",
    "\n",
    "- Write a Python script to print each classroom's average score.\n",
    "\n",
    "Example input: {\"Class A\": {\"Alice\": 88, \"Bob\": 76, \"Charlie\": 90}, \"Class B\": {\"Zara\": 92, \"Daniel\": 64}}\n"
   ]
  },
  {
   "cell_type": "code",
   "execution_count": 32,
   "metadata": {},
   "outputs": [],
   "source": [
    "classes = {\"Class A\": {\"Alice\": 88, \"Bob\": 76, \"Charlie\": 90}, \"Class B\": {\"Zara\": 92, \"Daniel\": 64}}\n"
   ]
  },
  {
   "cell_type": "code",
   "execution_count": 33,
   "metadata": {},
   "outputs": [
    {
     "name": "stdout",
     "output_type": "stream",
     "text": [
      "Class A average score: 84.67\n",
      "Class B average score: 78.00\n"
     ]
    }
   ],
   "source": [
    "\n",
    "for class_name, students in classes.items():\n",
    "    total_score = sum(students.values())\n",
    "    student_count = len(students)\n",
    "    average_score = total_score / student_count\n",
    "    print(f\"{class_name} average score: {average_score:.2f}\")\n",
    "\n",
    " "
   ]
  },
  {
   "cell_type": "markdown",
   "metadata": {},
   "source": [
    "### Exercise 4: Working with NumPy Arrays\n",
    "\n",
    "- Import the NumPy library with the shortened alias `np` (convention and convenience).\n",
    "- Create a NumPy array named numbers containing increasing integers from 1 to 100.\n",
    "- Print the shape of the array.\n",
    "- Calculate and print the mean, median, min and max values of the array's elements.\n",
    "- Using slicing, create a new array that contains only the first 5 elements of numbers and print it.\n",
    "- Multiply every element of the array by 2 (element-wise multiplication) and print the updated array."
   ]
  },
  {
   "cell_type": "code",
   "execution_count": 1,
   "metadata": {},
   "outputs": [
    {
     "name": "stdout",
     "output_type": "stream",
     "text": [
      "Array: [ 1  2  3  4  5  6  7  8  9 10]\n",
      "Shape: (10,)\n",
      "Mean value: 5.5\n",
      "First 5 elements: [1 2 3 4 5]\n",
      "Array with elements multiplied by 2: [ 2  4  6  8 10 12 14 16 18 20]\n"
     ]
    }
   ],
   "source": [
    "import numpy as np\n",
    "\n",
    "# Creating the NumPy array\n",
    "numbers = np.arange(1, 11)\n",
    "print(\"Array:\", numbers)\n",
    "\n",
    "# Printing the shape of the array\n",
    "print(\"Shape:\", numbers.shape)\n",
    "\n",
    "# Calculating and printing the mean, median, min and max values\n",
    "mean_value = np.mean(numbers)\n",
    "print(\"Mean value:\", mean_value)\n",
    "\n",
    "# Slicing the first 5 elements\n",
    "first_five = numbers[:5]\n",
    "print(\"First 5 elements:\", first_five)\n",
    "\n",
    "# Multiplying every element by 2\n",
    "doubled_numbers = numbers * 2\n",
    "print(\"Array with elements multiplied by 2:\", doubled_numbers)"
   ]
  },
  {
   "cell_type": "code",
   "execution_count": null,
   "metadata": {},
   "outputs": [],
   "source": []
  },
  {
   "cell_type": "markdown",
   "metadata": {},
   "source": [
    "---\n",
    "\n",
    "## Part 2. Pandas Dataframes\n",
    "\n",
    "### Exercise 0: Dataframe Basics\n",
    "- Import Pandas as `pd`.\n",
    "- Create a Series with `pd.Series` by passing it a list of values.\n",
    "- Create a Dataframe with `pd.Dataframe` by passing it a dictionary with lists of values.\n",
    "- Explore how different data types are stored in the dataframe with `.dtypes` (it's an attribute, not a function)."
   ]
  },
  {
   "cell_type": "code",
   "execution_count": 3,
   "metadata": {},
   "outputs": [],
   "source": [
    "values = [14, 42, 23, 17, 99]"
   ]
  },
  {
   "cell_type": "code",
   "execution_count": 5,
   "metadata": {},
   "outputs": [
    {
     "name": "stdout",
     "output_type": "stream",
     "text": [
      "Series:\n",
      "0    14\n",
      "1    42\n",
      "2    23\n",
      "3    17\n",
      "4    99\n",
      "dtype: int64\n",
      "\n"
     ]
    }
   ],
   "source": [
    "# Importing pandas\n",
    "import pandas as pd\n",
    "\n",
    "# Creating a Series from a list\n",
    "temperature_series = pd.Series(values)\n",
    "print(\"Series:\")\n",
    "print(temperature_series)\n",
    "print()\n",
    "\n"
   ]
  },
  {
   "cell_type": "code",
   "execution_count": 7,
   "metadata": {},
   "outputs": [],
   "source": [
    "data = {\n",
    "    \"Variable A\": [3, 15, 45],\n",
    "    \"Variable B\": [0.1, 0.4, 0.2],\n",
    "    \"Variable C\": [True, True, False],\n",
    "    \"Variable D\": [\"blue\", \"red\", \"green\"],\n",
    "}"
   ]
  },
  {
   "cell_type": "code",
   "execution_count": 8,
   "metadata": {},
   "outputs": [
    {
     "name": "stdout",
     "output_type": "stream",
     "text": [
      "DataFrame:\n",
      "   Variable A  Variable B  Variable C Variable D\n",
      "0           3         0.1        True       blue\n",
      "1          15         0.4        True        red\n",
      "2          45         0.2       False      green\n",
      "\n",
      "Data types in the DataFrame:\n",
      "Variable A      int64\n",
      "Variable B    float64\n",
      "Variable C       bool\n",
      "Variable D     object\n",
      "dtype: object\n"
     ]
    }
   ],
   "source": [
    "# Creating a DataFrame from a dictionary of lists\n",
    "df = pd.DataFrame(data)\n",
    "\n",
    "print(\"DataFrame:\")\n",
    "print(df)\n",
    "print()\n",
    "\n",
    "# Checking the data types of each column\n",
    "print(\"Data types in the DataFrame:\")\n",
    "print(df.dtypes)\n"
   ]
  },
  {
   "cell_type": "code",
   "execution_count": null,
   "metadata": {},
   "outputs": [],
   "source": []
  },
  {
   "cell_type": "markdown",
   "metadata": {},
   "source": [
    "### Exercise 1: Dataset Loading and Overview\n",
    "- Load the Titanic training dataset (train.csv) into a Pandas dataframe (`pd.read_csv`).\n",
    "- Look at the top five rows of the dataframe (`pd.head`) and understand what the columns represent.\n",
    "- Print descriptive statistics about the dataframe (`pd.describe`)."
   ]
  },
  {
   "cell_type": "code",
   "execution_count": 10,
   "metadata": {},
   "outputs": [],
   "source": [
    "import pandas as pd\n",
    "\n",
    "df = pd.read_csv(\"/Users/luba/Documents/redi/redi-projects/titanic/train.csv\")"
   ]
  },
  {
   "cell_type": "code",
   "execution_count": 11,
   "metadata": {},
   "outputs": [
    {
     "data": {
      "text/html": [
       "<div>\n",
       "<style scoped>\n",
       "    .dataframe tbody tr th:only-of-type {\n",
       "        vertical-align: middle;\n",
       "    }\n",
       "\n",
       "    .dataframe tbody tr th {\n",
       "        vertical-align: top;\n",
       "    }\n",
       "\n",
       "    .dataframe thead th {\n",
       "        text-align: right;\n",
       "    }\n",
       "</style>\n",
       "<table border=\"1\" class=\"dataframe\">\n",
       "  <thead>\n",
       "    <tr style=\"text-align: right;\">\n",
       "      <th></th>\n",
       "      <th>PassengerId</th>\n",
       "      <th>Survived</th>\n",
       "      <th>Pclass</th>\n",
       "      <th>Name</th>\n",
       "      <th>Sex</th>\n",
       "      <th>Age</th>\n",
       "      <th>SibSp</th>\n",
       "      <th>Parch</th>\n",
       "      <th>Ticket</th>\n",
       "      <th>Fare</th>\n",
       "      <th>Cabin</th>\n",
       "      <th>Embarked</th>\n",
       "    </tr>\n",
       "  </thead>\n",
       "  <tbody>\n",
       "    <tr>\n",
       "      <th>0</th>\n",
       "      <td>1</td>\n",
       "      <td>0</td>\n",
       "      <td>3</td>\n",
       "      <td>Braund, Mr. Owen Harris</td>\n",
       "      <td>male</td>\n",
       "      <td>22.0</td>\n",
       "      <td>1</td>\n",
       "      <td>0</td>\n",
       "      <td>A/5 21171</td>\n",
       "      <td>7.2500</td>\n",
       "      <td>NaN</td>\n",
       "      <td>S</td>\n",
       "    </tr>\n",
       "    <tr>\n",
       "      <th>1</th>\n",
       "      <td>2</td>\n",
       "      <td>1</td>\n",
       "      <td>1</td>\n",
       "      <td>Cumings, Mrs. John Bradley (Florence Briggs Th...</td>\n",
       "      <td>female</td>\n",
       "      <td>38.0</td>\n",
       "      <td>1</td>\n",
       "      <td>0</td>\n",
       "      <td>PC 17599</td>\n",
       "      <td>71.2833</td>\n",
       "      <td>C85</td>\n",
       "      <td>C</td>\n",
       "    </tr>\n",
       "    <tr>\n",
       "      <th>2</th>\n",
       "      <td>3</td>\n",
       "      <td>1</td>\n",
       "      <td>3</td>\n",
       "      <td>Heikkinen, Miss. Laina</td>\n",
       "      <td>female</td>\n",
       "      <td>26.0</td>\n",
       "      <td>0</td>\n",
       "      <td>0</td>\n",
       "      <td>STON/O2. 3101282</td>\n",
       "      <td>7.9250</td>\n",
       "      <td>NaN</td>\n",
       "      <td>S</td>\n",
       "    </tr>\n",
       "    <tr>\n",
       "      <th>3</th>\n",
       "      <td>4</td>\n",
       "      <td>1</td>\n",
       "      <td>1</td>\n",
       "      <td>Futrelle, Mrs. Jacques Heath (Lily May Peel)</td>\n",
       "      <td>female</td>\n",
       "      <td>35.0</td>\n",
       "      <td>1</td>\n",
       "      <td>0</td>\n",
       "      <td>113803</td>\n",
       "      <td>53.1000</td>\n",
       "      <td>C123</td>\n",
       "      <td>S</td>\n",
       "    </tr>\n",
       "    <tr>\n",
       "      <th>4</th>\n",
       "      <td>5</td>\n",
       "      <td>0</td>\n",
       "      <td>3</td>\n",
       "      <td>Allen, Mr. William Henry</td>\n",
       "      <td>male</td>\n",
       "      <td>35.0</td>\n",
       "      <td>0</td>\n",
       "      <td>0</td>\n",
       "      <td>373450</td>\n",
       "      <td>8.0500</td>\n",
       "      <td>NaN</td>\n",
       "      <td>S</td>\n",
       "    </tr>\n",
       "  </tbody>\n",
       "</table>\n",
       "</div>"
      ],
      "text/plain": [
       "   PassengerId  Survived  Pclass  \\\n",
       "0            1         0       3   \n",
       "1            2         1       1   \n",
       "2            3         1       3   \n",
       "3            4         1       1   \n",
       "4            5         0       3   \n",
       "\n",
       "                                                Name     Sex   Age  SibSp  \\\n",
       "0                            Braund, Mr. Owen Harris    male  22.0      1   \n",
       "1  Cumings, Mrs. John Bradley (Florence Briggs Th...  female  38.0      1   \n",
       "2                             Heikkinen, Miss. Laina  female  26.0      0   \n",
       "3       Futrelle, Mrs. Jacques Heath (Lily May Peel)  female  35.0      1   \n",
       "4                           Allen, Mr. William Henry    male  35.0      0   \n",
       "\n",
       "   Parch            Ticket     Fare Cabin Embarked  \n",
       "0      0         A/5 21171   7.2500   NaN        S  \n",
       "1      0          PC 17599  71.2833   C85        C  \n",
       "2      0  STON/O2. 3101282   7.9250   NaN        S  \n",
       "3      0            113803  53.1000  C123        S  \n",
       "4      0            373450   8.0500   NaN        S  "
      ]
     },
     "execution_count": 11,
     "metadata": {},
     "output_type": "execute_result"
    }
   ],
   "source": [
    "df.head()"
   ]
  },
  {
   "cell_type": "code",
   "execution_count": 16,
   "metadata": {},
   "outputs": [
    {
     "data": {
      "text/plain": [
       "<bound method NDFrame.describe of      PassengerId  Survived  Pclass  \\\n",
       "0              1         0       3   \n",
       "1              2         1       1   \n",
       "2              3         1       3   \n",
       "3              4         1       1   \n",
       "4              5         0       3   \n",
       "..           ...       ...     ...   \n",
       "886          887         0       2   \n",
       "887          888         1       1   \n",
       "888          889         0       3   \n",
       "889          890         1       1   \n",
       "890          891         0       3   \n",
       "\n",
       "                                                  Name     Sex   Age  SibSp  \\\n",
       "0                              Braund, Mr. Owen Harris    male  22.0      1   \n",
       "1    Cumings, Mrs. John Bradley (Florence Briggs Th...  female  38.0      1   \n",
       "2                               Heikkinen, Miss. Laina  female  26.0      0   \n",
       "3         Futrelle, Mrs. Jacques Heath (Lily May Peel)  female  35.0      1   \n",
       "4                             Allen, Mr. William Henry    male  35.0      0   \n",
       "..                                                 ...     ...   ...    ...   \n",
       "886                              Montvila, Rev. Juozas    male  27.0      0   \n",
       "887                       Graham, Miss. Margaret Edith  female  19.0      0   \n",
       "888           Johnston, Miss. Catherine Helen \"Carrie\"  female   NaN      1   \n",
       "889                              Behr, Mr. Karl Howell    male  26.0      0   \n",
       "890                                Dooley, Mr. Patrick    male  32.0      0   \n",
       "\n",
       "     Parch            Ticket     Fare Cabin Embarked  \n",
       "0        0         A/5 21171   7.2500   NaN        S  \n",
       "1        0          PC 17599  71.2833   C85        C  \n",
       "2        0  STON/O2. 3101282   7.9250   NaN        S  \n",
       "3        0            113803  53.1000  C123        S  \n",
       "4        0            373450   8.0500   NaN        S  \n",
       "..     ...               ...      ...   ...      ...  \n",
       "886      0            211536  13.0000   NaN        S  \n",
       "887      0            112053  30.0000   B42        S  \n",
       "888      2        W./C. 6607  23.4500   NaN        S  \n",
       "889      0            111369  30.0000  C148        C  \n",
       "890      0            370376   7.7500   NaN        Q  \n",
       "\n",
       "[891 rows x 12 columns]>"
      ]
     },
     "execution_count": 16,
     "metadata": {},
     "output_type": "execute_result"
    }
   ],
   "source": [
    "df.describe"
   ]
  },
  {
   "cell_type": "markdown",
   "metadata": {},
   "source": [
    "### Exercise 2: Dataframe Indexing\n",
    "\n",
    "There are multiple ways to access data in Pandas, let's explore them a bit.\n",
    "\n",
    "- Access a column of your choice by its name with `df[\"column_name\"]`.\n",
    "  - This gives us a Pandas Series (1D array compared to the 2D table of a Dataframe).\n",
    "  - Print the value counts with `.value_counts`.\n",
    "  - Access multiple columns by providing a list of names.\n",
    "- Access a single row, column and value with `df.loc`.\n",
    "- Access a single row, column and value with `df.iloc`.\n",
    "- Use a boolean index to find passengers that are above the age of 30.\n",
    "  - We can use comparisons on different columns to create a boolean index like `df[\"column_name\"] > X`.\n",
    "  - We can use `df[<binary_index>]` with a list or array with boolean values to access rows where the index is True.\n",
    "  - What is their average fare?"
   ]
  },
  {
   "cell_type": "code",
   "execution_count": 13,
   "metadata": {},
   "outputs": [
    {
     "data": {
      "text/html": [
       "<div>\n",
       "<style scoped>\n",
       "    .dataframe tbody tr th:only-of-type {\n",
       "        vertical-align: middle;\n",
       "    }\n",
       "\n",
       "    .dataframe tbody tr th {\n",
       "        vertical-align: top;\n",
       "    }\n",
       "\n",
       "    .dataframe thead th {\n",
       "        text-align: right;\n",
       "    }\n",
       "</style>\n",
       "<table border=\"1\" class=\"dataframe\">\n",
       "  <thead>\n",
       "    <tr style=\"text-align: right;\">\n",
       "      <th></th>\n",
       "      <th>PassengerId</th>\n",
       "      <th>Survived</th>\n",
       "      <th>Pclass</th>\n",
       "      <th>Name</th>\n",
       "      <th>Sex</th>\n",
       "      <th>Age</th>\n",
       "      <th>SibSp</th>\n",
       "      <th>Parch</th>\n",
       "      <th>Ticket</th>\n",
       "      <th>Fare</th>\n",
       "      <th>Cabin</th>\n",
       "      <th>Embarked</th>\n",
       "    </tr>\n",
       "  </thead>\n",
       "  <tbody>\n",
       "    <tr>\n",
       "      <th>0</th>\n",
       "      <td>1</td>\n",
       "      <td>0</td>\n",
       "      <td>3</td>\n",
       "      <td>Braund, Mr. Owen Harris</td>\n",
       "      <td>male</td>\n",
       "      <td>22.0</td>\n",
       "      <td>1</td>\n",
       "      <td>0</td>\n",
       "      <td>A/5 21171</td>\n",
       "      <td>7.2500</td>\n",
       "      <td>NaN</td>\n",
       "      <td>S</td>\n",
       "    </tr>\n",
       "    <tr>\n",
       "      <th>1</th>\n",
       "      <td>2</td>\n",
       "      <td>1</td>\n",
       "      <td>1</td>\n",
       "      <td>Cumings, Mrs. John Bradley (Florence Briggs Th...</td>\n",
       "      <td>female</td>\n",
       "      <td>38.0</td>\n",
       "      <td>1</td>\n",
       "      <td>0</td>\n",
       "      <td>PC 17599</td>\n",
       "      <td>71.2833</td>\n",
       "      <td>C85</td>\n",
       "      <td>C</td>\n",
       "    </tr>\n",
       "    <tr>\n",
       "      <th>2</th>\n",
       "      <td>3</td>\n",
       "      <td>1</td>\n",
       "      <td>3</td>\n",
       "      <td>Heikkinen, Miss. Laina</td>\n",
       "      <td>female</td>\n",
       "      <td>26.0</td>\n",
       "      <td>0</td>\n",
       "      <td>0</td>\n",
       "      <td>STON/O2. 3101282</td>\n",
       "      <td>7.9250</td>\n",
       "      <td>NaN</td>\n",
       "      <td>S</td>\n",
       "    </tr>\n",
       "    <tr>\n",
       "      <th>3</th>\n",
       "      <td>4</td>\n",
       "      <td>1</td>\n",
       "      <td>1</td>\n",
       "      <td>Futrelle, Mrs. Jacques Heath (Lily May Peel)</td>\n",
       "      <td>female</td>\n",
       "      <td>35.0</td>\n",
       "      <td>1</td>\n",
       "      <td>0</td>\n",
       "      <td>113803</td>\n",
       "      <td>53.1000</td>\n",
       "      <td>C123</td>\n",
       "      <td>S</td>\n",
       "    </tr>\n",
       "    <tr>\n",
       "      <th>4</th>\n",
       "      <td>5</td>\n",
       "      <td>0</td>\n",
       "      <td>3</td>\n",
       "      <td>Allen, Mr. William Henry</td>\n",
       "      <td>male</td>\n",
       "      <td>35.0</td>\n",
       "      <td>0</td>\n",
       "      <td>0</td>\n",
       "      <td>373450</td>\n",
       "      <td>8.0500</td>\n",
       "      <td>NaN</td>\n",
       "      <td>S</td>\n",
       "    </tr>\n",
       "  </tbody>\n",
       "</table>\n",
       "</div>"
      ],
      "text/plain": [
       "   PassengerId  Survived  Pclass  \\\n",
       "0            1         0       3   \n",
       "1            2         1       1   \n",
       "2            3         1       3   \n",
       "3            4         1       1   \n",
       "4            5         0       3   \n",
       "\n",
       "                                                Name     Sex   Age  SibSp  \\\n",
       "0                            Braund, Mr. Owen Harris    male  22.0      1   \n",
       "1  Cumings, Mrs. John Bradley (Florence Briggs Th...  female  38.0      1   \n",
       "2                             Heikkinen, Miss. Laina  female  26.0      0   \n",
       "3       Futrelle, Mrs. Jacques Heath (Lily May Peel)  female  35.0      1   \n",
       "4                           Allen, Mr. William Henry    male  35.0      0   \n",
       "\n",
       "   Parch            Ticket     Fare Cabin Embarked  \n",
       "0      0         A/5 21171   7.2500   NaN        S  \n",
       "1      0          PC 17599  71.2833   C85        C  \n",
       "2      0  STON/O2. 3101282   7.9250   NaN        S  \n",
       "3      0            113803  53.1000  C123        S  \n",
       "4      0            373450   8.0500   NaN        S  "
      ]
     },
     "execution_count": 13,
     "metadata": {},
     "output_type": "execute_result"
    }
   ],
   "source": [
    "df.head()"
   ]
  },
  {
   "cell_type": "code",
   "execution_count": 18,
   "metadata": {},
   "outputs": [
    {
     "name": "stdout",
     "output_type": "stream",
     "text": [
      "Value Counts for 'Sex':\n",
      "Sex\n",
      "male      577\n",
      "female    314\n",
      "Name: count, dtype: int64\n",
      "\n",
      "Subset with multiple columns:\n",
      "      Sex   Age     Fare\n",
      "0    male  22.0   7.2500\n",
      "1  female  38.0  71.2833\n",
      "2  female  26.0   7.9250\n",
      "3  female  35.0  53.1000\n",
      "4    male  35.0   8.0500\n",
      "\n",
      "Access row 0, column 'Name':\n",
      "Braund, Mr. Owen Harris\n"
     ]
    }
   ],
   "source": [
    "series = df[\"Sex\"]\n",
    "print(\"Value Counts for 'Sex':\")\n",
    "print(series.value_counts())\n",
    "\n",
    "subset_columns = df[[\"Sex\", \"Age\", \"Fare\"]]\n",
    "print(\"\\nSubset with multiple columns:\")\n",
    "print(subset_columns.head())\n",
    "\n",
    "\n",
    "print(\"\\nAccess row 0, column 'Name':\")\n",
    "print(df.loc[0, \"Name\"])"
   ]
  },
  {
   "cell_type": "code",
   "execution_count": 17,
   "metadata": {},
   "outputs": [
    {
     "name": "stdout",
     "output_type": "stream",
     "text": [
      "Access row 0, column 2:\n",
      "3\n",
      "\n",
      "Passengers older than 30:\n",
      "                                                 Name   Age\n",
      "1   Cumings, Mrs. John Bradley (Florence Briggs Th...  38.0\n",
      "3        Futrelle, Mrs. Jacques Heath (Lily May Peel)  35.0\n",
      "4                            Allen, Mr. William Henry  35.0\n",
      "6                             McCarthy, Mr. Timothy J  54.0\n",
      "11                           Bonnell, Miss. Elizabeth  58.0\n",
      "\n",
      "Average Fare for passengers older than 30: 42.35\n"
     ]
    }
   ],
   "source": [
    "print(\"Access row 0, column 2:\")\n",
    "print(df.iloc[0, 2])\n",
    "\n",
    "above_30 = df[df[\"Age\"] > 30]\n",
    "print(\"\\nPassengers older than 30:\")\n",
    "print(above_30[[\"Name\", \"Age\"]].head())\n",
    "\n",
    "average_fare_above_30 = above_30[\"Fare\"].mean()\n",
    "print(f\"\\nAverage Fare for passengers older than 30: {average_fare_above_30:.2f}\")"
   ]
  },
  {
   "cell_type": "markdown",
   "metadata": {},
   "source": [
    "---\n",
    "\n",
    "## Part 3. Data Visualisation\n",
    "\n",
    "### Exercise 1: Plot Histogram\n",
    "\n",
    "- Import matplotlib.pyplot as plt.\n",
    "- Select a column for which you want to to see the histogram.\n",
    "    Always good to ask yourself: what do you expect to see?\n",
    "- Use the `plt.hist` method on the Series of the selected column.\n",
    "- Explore different values for the `bins` and `range` parameters.\n",
    "- Use `plt.xlabel` and `plt.ylabel` to add axis labels to the plot."
   ]
  },
  {
   "cell_type": "code",
   "execution_count": 19,
   "metadata": {},
   "outputs": [
    {
     "name": "stderr",
     "output_type": "stream",
     "text": [
      "Matplotlib is building the font cache; this may take a moment.\n"
     ]
    }
   ],
   "source": [
    "import matplotlib.pyplot as plt\n",
    "\n",
    "age_series = df[\"Age\"].dropna()"
   ]
  },
  {
   "cell_type": "code",
   "execution_count": 20,
   "metadata": {},
   "outputs": [
    {
     "data": {
      "image/png": "[encoded data removed]",
      "text/plain": [
       "<Figure size 640x480 with 1 Axes>"
      ]
     },
     "metadata": {},
     "output_type": "display_data"
    }
   ],
   "source": [
    "plt.hist(age_series, bins=20, range=(0, 80), edgecolor='black')  # bins = Anzahl der Balken, range = Wertebereich\n",
    "\n",
    "# Age description\n",
    "plt.xlabel(\"Age\")\n",
    "plt.ylabel(\"Number of Passengers\")\n",
    "plt.title(\"Distribution of Passenger Ages on the Titanic\")\n",
    "\n",
    "# Showing plot\n",
    "plt.show()"
   ]
  },
  {
   "cell_type": "markdown",
   "metadata": {},
   "source": [
    "### Exercise 2: Scatter Plot\n",
    "\n",
    "- Select two numeric columns.\n",
    "- Plot their series against each other using the `plt.scatter` function.\n",
    "  - What do you expect to see?"
   ]
  },
  {
   "cell_type": "code",
   "execution_count": null,
   "metadata": {},
   "outputs": [],
   "source": [
    "s1 = df[...]\n",
    "s2 = df[...]"
   ]
  },
  {
   "cell_type": "code",
   "execution_count": null,
   "metadata": {},
   "outputs": [],
   "source": []
  },
  {
   "cell_type": "markdown",
   "metadata": {},
   "source": [
    "### Exercise 3: Box Plot\n",
    "\n",
    "- Select a numeric column.\n",
    "- Use the `plt.boxplot` function to create a Box plot.\n",
    "- What does it show?"
   ]
  },
  {
   "cell_type": "code",
   "execution_count": null,
   "metadata": {},
   "outputs": [],
   "source": [
    "series = df[...]"
   ]
  },
  {
   "cell_type": "code",
   "execution_count": null,
   "metadata": {},
   "outputs": [],
   "source": []
  },
  {
   "cell_type": "markdown",
   "metadata": {},
   "source": [
    "### Exercise 4: Exploring Pairwise Relationships with Pairplot\n",
    "\n",
    "- Import Seaborn as `sns`.\n",
    "- Use Seaborn's `pairplot` function to visualize pairwise relationships between our features."
   ]
  },
  {
   "cell_type": "code",
   "execution_count": null,
   "metadata": {},
   "outputs": [],
   "source": [
    "# Create a pairplot to explore pairwise relationships\n"
   ]
  },
  {
   "cell_type": "code",
   "execution_count": null,
   "metadata": {},
   "outputs": [],
   "source": []
  },
  {
   "cell_type": "markdown",
   "metadata": {},
   "source": [
    "### Exercise 5: Correlation Heatmap\n",
    "\n",
    "- Use Pandas' `corr` function and  Seaborn's `heatmap` function to visualize pairwise correlations.\n",
    "  - `corr` as a helpful `numeric_only` argument.\n",
    "  - Can you convert the non-numeric columns in some way so that we can include them in the correlation plot?"
   ]
  },
  {
   "cell_type": "code",
   "execution_count": null,
   "metadata": {},
   "outputs": [],
   "source": []
  },
  {
   "cell_type": "markdown",
   "metadata": {},
   "source": [
    "---\n",
    "\n",
    "## Part 4. Free Form Exploration\n",
    "\n",
    "- Try to think of a few questions and answer them from the data.\n",
    "  - For example, was it better or worse to be in 1st class?"
   ]
  },
  {
   "cell_type": "code",
   "execution_count": null,
   "metadata": {},
   "outputs": [],
   "source": []
  }
 ],
 "metadata": {
  "kernelspec": {
   "display_name": "redi-labs",
   "language": "python",
   "name": "python3"
  },
  "language_info": {
   "codemirror_mode": {
    "name": "ipython",
    "version": 3
   },
   "file_extension": ".py",
   "mimetype": "text/x-python",
   "name": "python",
   "nbconvert_exporter": "python",
   "pygments_lexer": "ipython3",
   "version": "3.12.9"
  }
 },
 "nbformat": 4,
 "nbformat_minor": 2
}
